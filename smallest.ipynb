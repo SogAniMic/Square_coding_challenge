{
 "cells": [
  {
   "cell_type": "markdown",
   "id": "60854a3c",
   "metadata": {},
   "source": [
    "# Given a string and a set of characters, return the shortest substring containing all the characters in the set.\n",
    "\n",
    "For example, given the string \"figehaeci\" and the set of characters {a, e, i}, you should return \"aeci\".\n",
    "\n",
    "If there is no substring containing all the characters in the set, return null."
   ]
  },
  {
   "cell_type": "code",
   "execution_count": null,
   "id": "30be6cf7",
   "metadata": {},
   "outputs": [],
   "source": [
    "from collections import defaultdict\n",
    "\n",
    "def smallest(s1, s2):\n",
    "    assert s2 != ''\n",
    "    d = defaultdict(int)\n",
    "    nneg = [0]  # number of negative entries in d\n",
    "    def incr(c):\n",
    "        d[c] += 1\n",
    "        if d[c] == 0:\n",
    "            nneg[0] -= 1\n",
    "    def decr(c):\n",
    "        if d[c] == 0:\n",
    "            nneg[0] += 1\n",
    "        d[c] -= 1\n",
    "    for c in s2:\n",
    "        decr(c)\n",
    "    minlen = len(s1) + 1\n",
    "    j = 0\n",
    "    for i in xrange(len(s1)):\n",
    "        while nneg[0] > 0:\n",
    "            if j >= len(s1):\n",
    "                return minlen\n",
    "            incr(s1[j])\n",
    "            j += 1\n",
    "        minlen = min(minlen, j - i)\n",
    "        decr(s1[i])\n",
    "    return minlen"
   ]
  }
 ],
 "metadata": {
  "kernelspec": {
   "display_name": "Python 3 (ipykernel)",
   "language": "python",
   "name": "python3"
  },
  "language_info": {
   "codemirror_mode": {
    "name": "ipython",
    "version": 3
   },
   "file_extension": ".py",
   "mimetype": "text/x-python",
   "name": "python",
   "nbconvert_exporter": "python",
   "pygments_lexer": "ipython3",
   "version": "3.9.13"
  }
 },
 "nbformat": 4,
 "nbformat_minor": 5
}
